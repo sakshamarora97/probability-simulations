{
 "cells": [
  {
   "cell_type": "code",
   "execution_count": 1,
   "metadata": {},
   "outputs": [],
   "source": [
    "import numpy as np"
   ]
  },
  {
   "cell_type": "code",
   "execution_count": 13,
   "metadata": {},
   "outputs": [],
   "source": [
    "def did_event_1_happen(num):\n",
    "    return num<=0.3\n",
    "def did_event_2_happen(num):\n",
    "    return num<=0.4    "
   ]
  },
  {
   "cell_type": "code",
   "execution_count": 24,
   "metadata": {},
   "outputs": [
    {
     "name": "stdout",
     "output_type": "stream",
     "text": [
      "30.21 59.85 0.0 9.94\n",
      "30.0 60.22 0.0 9.78\n",
      "29.56 60.08 0.0 10.36\n",
      "30.94 58.91 0.0 10.15\n",
      "29.92 60.24 0.0 9.84\n"
     ]
    }
   ],
   "source": [
    "count_only_1 = 0\n",
    "count_only_2 =0 \n",
    "count_both = 0\n",
    "count_none =0\n",
    "\n",
    "for j in range(0,5):\n",
    "    count_only_1 = 0\n",
    "    count_only_2 =0 \n",
    "    count_both = 0\n",
    "    count_none =0\n",
    "    for i in range(0,10000):\n",
    "        x = np.random.random(size=1)\n",
    "        event_1_happened = did_event_1_happen(x)\n",
    "        event_2_happened = did_event_2_happen(x)\n",
    "        if event_1_happened and not(event_2_happened):\n",
    "            count_only_1+=1\n",
    "        elif not(event_1_happened) and event_2_happened:\n",
    "            count_only_2+=1\n",
    "        elif event_1_happened and event_2_happened:\n",
    "            count_both+=1\n",
    "        elif not(event_1_happened) and not(event_2_happened):\n",
    "            count_none+=1\n",
    "    print(count_both/100,count_none/100,count_only_1/100,count_only_2/100)\n"
   ]
  },
  {
   "cell_type": "code",
   "execution_count": 25,
   "metadata": {},
   "outputs": [
    {
     "name": "stdout",
     "output_type": "stream",
     "text": [
      "11.62 40.89 18.33 29.16\n",
      "12.01 42.13 18.44 27.42\n",
      "11.89 42.67 17.41 28.03\n",
      "12.23 41.94 18.19 27.64\n",
      "12.4 42.12 17.89 27.59\n"
     ]
    }
   ],
   "source": [
    "count_only_1 = 0\n",
    "count_only_2 =0 \n",
    "count_both = 0\n",
    "count_none =0\n",
    "\n",
    "for j in range(0,5):\n",
    "    count_only_1 = 0\n",
    "    count_only_2 =0 \n",
    "    count_both = 0\n",
    "    count_none =0\n",
    "    for i in range(0,10000):\n",
    "        x1 = np.random.random(size=1)\n",
    "        x2 = np.random.random(size=1)\n",
    "        event_1_happened = did_event_1_happen(x1)\n",
    "        event_2_happened = did_event_2_happen(x2)\n",
    "        if event_1_happened and not(event_2_happened):\n",
    "            count_only_1+=1\n",
    "        elif not(event_1_happened) and event_2_happened:\n",
    "            count_only_2+=1\n",
    "        elif event_1_happened and event_2_happened:\n",
    "            count_both+=1\n",
    "        elif not(event_1_happened) and not(event_2_happened):\n",
    "            count_none+=1\n",
    "    print(count_both/100,count_none/100,count_only_1/100,count_only_2/100)\n"
   ]
  }
 ],
 "metadata": {
  "interpreter": {
   "hash": "a2293663bde60f8d62a29ef00672e3da0720546daf9032f2e7a900e8fa1169ce"
  },
  "kernelspec": {
   "display_name": "Python 3.9.7 ('base')",
   "language": "python",
   "name": "python3"
  },
  "language_info": {
   "codemirror_mode": {
    "name": "ipython",
    "version": 3
   },
   "file_extension": ".py",
   "mimetype": "text/x-python",
   "name": "python",
   "nbconvert_exporter": "python",
   "pygments_lexer": "ipython3",
   "version": "3.9.7"
  },
  "orig_nbformat": 4
 },
 "nbformat": 4,
 "nbformat_minor": 2
}
