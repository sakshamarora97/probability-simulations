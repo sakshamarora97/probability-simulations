{
 "cells": [
  {
   "cell_type": "code",
   "execution_count": 1,
   "metadata": {},
   "outputs": [],
   "source": [
    "import numpy as np"
   ]
  },
  {
   "cell_type": "code",
   "execution_count": 2,
   "metadata": {},
   "outputs": [],
   "source": [
    "def create_prize_door():\n",
    "    x = np.random.random(size=1)\n",
    "    prize_door = \"\"\n",
    "    if x<0.33333:\n",
    "        prize_door=\"A\"\n",
    "    elif x<0.66666:\n",
    "        prize_door=\"B\"\n",
    "    elif x>=0.66666:\n",
    "        prize_door=\"C\"\n",
    "    return prize_door    \n",
    "\n",
    "def create_my_choice():\n",
    "    x = np.random.random(size=1)\n",
    "    my_choice = \"\"\n",
    "    if x<0.33333:\n",
    "        my_choice=\"A\"\n",
    "    elif x<0.66666:\n",
    "        my_choice=\"B\"\n",
    "    elif x>=0.66666:\n",
    "        my_choice=\"C\"\n",
    "    return my_choice    \n",
    "\n",
    "def check_choice(my_choice,prize_door):\n",
    "    if my_choice == prize_door:\n",
    "        return \"Jackpot!\"\n",
    "    else:\n",
    "        return \"Sorry!\"\n"
   ]
  },
  {
   "cell_type": "code",
   "execution_count": 3,
   "metadata": {},
   "outputs": [],
   "source": [
    "def run_monty_hall(switch_on_open = False,verbose=False):\n",
    "    prize_door= create_prize_door()\n",
    "    my_choice = create_my_choice()\n",
    "    loss_doors = [i for i in [\"A\",\"B\",\"C\"] if i!=prize_door ]\n",
    "    if my_choice == loss_doors[0]:\n",
    "        open_door = loss_doors[1]\n",
    "    elif my_choice == loss_doors[1]:\n",
    "        open_door = loss_doors[0]\n",
    "    else:\n",
    "        open_door=loss_doors[0]\n",
    "        # x=np.random.random(size=1)\n",
    "        # if x>0.5:\n",
    "        #     open_door = loss_doors[0]\n",
    "        # else:\n",
    "        #     open_door = loss_doors[1]\n",
    "    if verbose:\n",
    "        print(\"Prize Door: \",prize_door)\n",
    "        print(\"My Choice: \",my_choice)\n",
    "        print(\"Door Opened: \",open_door)        \n",
    "\n",
    "    if not(switch_on_open):\n",
    "        if verbose:\n",
    "            print(\"No Switch\")\n",
    "            print(check_choice(my_choice,prize_door)+\"\\n\")\n",
    "        return check_choice(my_choice,prize_door)\n",
    "    else:\n",
    "        my_choice = [i for i in [\"A\",\"B\",\"C\"] if i!=my_choice and i!=open_door][0]\n",
    "        if verbose:\n",
    "            print(\"Switched to: \",my_choice)\n",
    "            print(check_choice(my_choice,prize_door)+\"\\n\")\n",
    "        return check_choice(my_choice,prize_door)        "
   ]
  },
  {
   "cell_type": "code",
   "execution_count": 4,
   "metadata": {},
   "outputs": [
    {
     "name": "stdout",
     "output_type": "stream",
     "text": [
      "Prize Door:  B\n",
      "My Choice:  A\n",
      "Door Opened:  C\n",
      "Switched to:  B\n",
      "Jackpot!\n",
      "\n"
     ]
    },
    {
     "data": {
      "text/plain": [
       "'Jackpot!'"
      ]
     },
     "execution_count": 4,
     "metadata": {},
     "output_type": "execute_result"
    }
   ],
   "source": [
    "run_monty_hall(switch_on_open=True,verbose=True)"
   ]
  },
  {
   "cell_type": "code",
   "execution_count": 5,
   "metadata": {},
   "outputs": [
    {
     "name": "stdout",
     "output_type": "stream",
     "text": [
      "33.71 66.29\n"
     ]
    }
   ],
   "source": [
    "count_correct = 0\n",
    "count_incorrect =0\n",
    "for i in range(0,10000):\n",
    "    if run_monty_hall()==\"Jackpot!\":\n",
    "        count_correct+=1\n",
    "    else:\n",
    "        count_incorrect+=1\n",
    "print(count_correct/100,count_incorrect/100)"
   ]
  },
  {
   "cell_type": "code",
   "execution_count": 6,
   "metadata": {},
   "outputs": [
    {
     "name": "stdout",
     "output_type": "stream",
     "text": [
      "66.21 33.79\n"
     ]
    }
   ],
   "source": [
    "count_correct = 0\n",
    "count_incorrect =0\n",
    "for i in range(0,10000):\n",
    "    if run_monty_hall(switch_on_open=True)==\"Jackpot!\":\n",
    "        count_correct+=1\n",
    "    else:\n",
    "        count_incorrect+=1\n",
    "print(count_correct/100,count_incorrect/100)"
   ]
  },
  {
   "cell_type": "code",
   "execution_count": null,
   "metadata": {},
   "outputs": [],
   "source": []
  }
 ],
 "metadata": {
  "interpreter": {
   "hash": "a2293663bde60f8d62a29ef00672e3da0720546daf9032f2e7a900e8fa1169ce"
  },
  "kernelspec": {
   "display_name": "Python 3.9.7 ('base')",
   "language": "python",
   "name": "python3"
  },
  "language_info": {
   "codemirror_mode": {
    "name": "ipython",
    "version": 3
   },
   "file_extension": ".py",
   "mimetype": "text/x-python",
   "name": "python",
   "nbconvert_exporter": "python",
   "pygments_lexer": "ipython3",
   "version": "3.9.7"
  },
  "orig_nbformat": 4
 },
 "nbformat": 4,
 "nbformat_minor": 2
}
